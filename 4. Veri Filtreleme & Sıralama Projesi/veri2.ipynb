{
 "cells": [
  {
   "cell_type": "code",
   "execution_count": 1,
   "id": "128d99a9",
   "metadata": {},
   "outputs": [
    {
     "name": "stdout",
     "output_type": "stream",
     "text": [
      "Nüfusa Göre Azalan Sırada Ülkeler:\n",
      "            Country  Population\n",
      "42           China   1313973713\n",
      "94           India   1095351995\n",
      "214  United States    298444215\n",
      "95       Indonesia    245452739\n",
      "27          Brazil    188078227\n",
      "\n",
      "\n"
     ]
    }
   ],
   "source": [
    "# In[1]:\n",
    "\n",
    "\n",
    "import pandas as pd\n",
    "import numpy as np\n",
    "\n",
    "\n",
    "# In[3]:\n",
    "\n",
    "\n",
    "data = pd.read_csv('country.csv')\n",
    "data\n",
    "\n",
    "\n",
    "# ## Country.csv dosyasının özelliği\n",
    "# Bu tablo, çeşitli ülkelerle ilgili bir dizi demografik, ekonomik ve coğrafi veriyi içermektedir. Tabloda her bir satır bir ülkeyi temsil ederken, sütunlar bu ülkelerle ilgili farklı özellikleri gösterir. İşte sütunların anlamları:\n",
    "# \n",
    "# Country: Ülkenin adı.  \n",
    "# Region: Ülkenin bulunduğu bölge (örneğin, Asya, Doğu Avrupa).  \n",
    "# Population: Ülkenin toplam nüfusu.  \n",
    "# Area (sq. mi.): Ülkenin yüzölçümü (mil kare olarak).  \n",
    "# Pop. Density (per sq. mi.): Nüfus yoğunluğu (mil kare başına düşen kişi sayısı).  \n",
    "# Coastline (coast/area ratio): Sahil uzunluğunun, ülkenin toplam alanına oranı.  \n",
    "# Net migration: Net göç oranı (göçmenlerin ülkeye giren veya ülkeden çıkan kişi sayısına göre oranı).  \n",
    "# Infant mortality (per 1000 births): Bebek ölüm oranı (1000 doğum başına).  \n",
    "# GDP ($ per capita): Kişi başına düşen Gayri Safi Yurtiçi Hasıla (GSYİH).  \n",
    "# Literacy (%): Okur-yazarlık oranı.  \n",
    "# Phones (per 1000): Her 1000 kişi başına düşen telefon sayısı.  \n",
    "# Arable (%): Tarıma elverişli arazi yüzdesi.  \n",
    "# Crops (%): Ekilebilir ürünlerin yüzdesi.  \n",
    "# Other (%): Diğer arazi kullanımı yüzdesi.  \n",
    "# Climate: Ülkenin iklim kategorisi (numerik bir değer olarak gösterilmiş).  \n",
    "# Birthrate: Doğum oranı.  \n",
    "# Deathrate: Ölüm oranı.  \n",
    "# Agriculture: Tarım sektörünün ekonomideki payı.  \n",
    "# Industry: Sanayi sektörünün ekonomideki payı.  \n",
    "# Service: Hizmet sektörünün ekonomideki payı.  \n",
    "\n",
    "# ## Bu Dosyada Yapacağınız görevleri alt taraftan bakabilirsiniz.\n",
    "\n",
    "# ## 1. Görev : Nüfusa Göre Azalan Sırada Sıralama:\n",
    "\n",
    "# In[4]:\n",
    "\n",
    "\n",
    "# Nüfusa Göre Azalan Sırada Sıralama kodunu buraya yazınız\n",
    "nufusa_gore_siralama = data.sort_values('Population', ascending=False)\n",
    "print(\"Nüfusa Göre Azalan Sırada Ülkeler:\")\n",
    "print(nufusa_gore_siralama[['Country', 'Population']].head())\n",
    "print(\"\\n\")"
   ]
  },
  {
   "cell_type": "markdown",
   "id": "8911e548",
   "metadata": {},
   "source": [
    "Nüfusa göre azalan sıraya göre dünyanın en kalabalık ilk beş ülkesi şu şekilde:\n",
    "\n",
    "1 Çin - 1.31 milyar\n",
    "\n",
    "2 Hindistan - 1.10 milyar\n",
    "\n",
    "3 Amerika Birleşik Devletleri - 298 milyon\n",
    "\n",
    "4 Endonezya - 245 milyon\n",
    "\n",
    "5 Brezilya - 188 milyon\n",
    "\n",
    "Bu sıralama, dünya nüfusunun büyük ölçüde Asya kıtasında yoğunlaştığını açıkça göstermektedir. İlk beşte yer alan ülkelerden üçü (Çin, Hindistan, Endonezya) Asya'dandır."
   ]
  },
  {
   "cell_type": "code",
   "execution_count": 2,
   "id": "e5d837a3",
   "metadata": {},
   "outputs": [
    {
     "name": "stdout",
     "output_type": "stream",
     "text": [
      "GDP per capita'ya Göre Artan Sırada Ülkeler:\n",
      "           Country  GDP ($ per capita)\n",
      "58     East Timor                500.0\n",
      "188       Somalia                500.0\n",
      "183  Sierra Leone                500.0\n",
      "33        Burundi                600.0\n",
      "200      Tanzania                600.0\n",
      "\n",
      "\n"
     ]
    }
   ],
   "source": [
    "# ## 2. Görev: GDP per capita sütununa göre ülkeleri artan sırada sıralamak(Kişi başına düşen Gayri Safi Yurtiçi Hasıla).\n",
    "\n",
    "# In[5]:\n",
    "\n",
    "\n",
    "# GDP per capita sütununa göre ülkeleri artan sırada sıralamak(Kişi başına düşen Gayri Safi Yurtiçi Hasıla). kodunu buradan yazınız.\n",
    "gdp_artan_sira = data.sort_values('GDP ($ per capita)')\n",
    "print(\"GDP per capita'ya Göre Artan Sırada Ülkeler:\")\n",
    "print(gdp_artan_sira[['Country', 'GDP ($ per capita)']].head())\n",
    "print(\"\\n\")"
   ]
  },
  {
   "cell_type": "markdown",
   "id": "d141d1e9",
   "metadata": {},
   "source": [
    "Kişi başına düşen GSYİH'ya göre dünyanın en düşük gelire sahip ülkeleri:\n",
    "\n",
    "Doğu Timor - 500$\n",
    "\n",
    "Somali - 500$\n",
    "\n",
    "Sierra Leone - 500$\n",
    "\n",
    "Burundi - 600$\n",
    "\n",
    "Tanzanya - 600$\n",
    "\n",
    "Bu liste, en düşük gelir seviyesine sahip ülkelerin tamamının Afrika kıtasında (ve bir Asya ülkesi) olduğunu göstermektedir."
   ]
  },
  {
   "cell_type": "code",
   "execution_count": 3,
   "id": "0e007995",
   "metadata": {},
   "outputs": [
    {
     "name": "stdout",
     "output_type": "stream",
     "text": [
      "Nüfusu 10 Milyonun Üzerinde Olan Ülkeler:\n",
      "          Country  Population\n",
      "0    Afghanistan     31056997\n",
      "2        Algeria     32930091\n",
      "5         Angola     12127071\n",
      "8      Argentina     39921833\n",
      "11     Australia     20264082\n",
      "..            ...         ...\n",
      "218    Venezuela     25730435\n",
      "219      Vietnam     84402966\n",
      "224        Yemen     21456188\n",
      "225       Zambia     11502010\n",
      "226     Zimbabwe     12236805\n",
      "\n",
      "[79 rows x 2 columns]\n",
      "\n",
      "\n"
     ]
    }
   ],
   "source": [
    "# ## 3. Görev: Population sütunu 10 milyonun üzerinde olan ülkeleri seçmek.\n",
    "\n",
    "# In[6]:\n",
    "\n",
    "\n",
    "# Kodunu buraya yazınız.\n",
    "nufus_10_milyon_ustu = data[data['Population'] > 10000000]\n",
    "print(\"Nüfusu 10 Milyonun Üzerinde Olan Ülkeler:\")\n",
    "print(nufus_10_milyon_ustu[['Country', 'Population']])\n",
    "print(\"\\n\")"
   ]
  },
  {
   "cell_type": "markdown",
   "id": "98291713",
   "metadata": {},
   "source": [
    "Nüfusu 10 milyonun üzerinde olan birçok ülke bulunmaktadır. Bu listedeki ülkelerin nüfusları, 12 milyon (Zimbabwe) ile 84 milyon (Vietnam) arasında değişmektedir. Liste, dünya nüfusunun farklı kıtalara yayılmış çok sayıda ülkeden oluştuğunu göstermektedir."
   ]
  },
  {
   "cell_type": "code",
   "execution_count": 4,
   "id": "4ae775ac",
   "metadata": {},
   "outputs": [
    {
     "name": "stdout",
     "output_type": "stream",
     "text": [
      "En Yüksek Okur-Yazarlık Oranına Sahip İlk 5 Ülke:\n",
      "             Country Literacy (%)\n",
      "53   Czech Republic          99,9\n",
      "93          Iceland          99,9\n",
      "163          Poland          99,8\n",
      "114          Latvia          99,8\n",
      "64          Estonia          99,8\n",
      "\n",
      "\n"
     ]
    }
   ],
   "source": [
    "# ## 4. Görev: Literacy (%) sütununa göre ülkeleri sıralayıp, en yüksek okur-yazarlık oranına sahip ilk 5 ülkeyi seçmek.\n",
    "\n",
    "# In[7]:\n",
    "\n",
    "\n",
    "# Kodunu buraya yazınız.\n",
    "literacy_siralama = data.sort_values('Literacy (%)', ascending=False)\n",
    "en_yuksek_literacy = literacy_siralama.head(5)\n",
    "print(\"En Yüksek Okur-Yazarlık Oranına Sahip İlk 5 Ülke:\")\n",
    "print(en_yuksek_literacy[['Country', 'Literacy (%)']])\n",
    "print(\"\\n\")"
   ]
  },
  {
   "cell_type": "markdown",
   "id": "0045dd7e",
   "metadata": {},
   "source": [
    "%99'un üzerinde okuryazarlık oranına sahip ilk 5 ülke:\n",
    "\n",
    "Çek Cumhuriyeti - %99,9\n",
    "\n",
    "İzlanda - %99,9\n",
    "\n",
    "Polonya - %99,8\n",
    "\n",
    "Letonya - %99,8\n",
    "\n",
    "Estonya - %99,8\n",
    "\n",
    "Liste, en yüksek okuryazarlık oranlarına tamamen Avrupa ülkelerinin hakim olduğunu göstermektedir."
   ]
  },
  {
   "cell_type": "code",
   "execution_count": 5,
   "id": "a2eaf9d4",
   "metadata": {},
   "outputs": [
    {
     "name": "stdout",
     "output_type": "stream",
     "text": [
      "GDP per capita'sı 10.000'in Üzerinde Olan Ülkeler:\n",
      "                   Country  GDP ($ per capita)\n",
      "4                 Andorra              19000.0\n",
      "7       Antigua & Barbuda              11000.0\n",
      "8               Argentina              11200.0\n",
      "10                  Aruba              28000.0\n",
      "11              Australia              29000.0\n",
      "..                     ...                 ...\n",
      "212  United Arab Emirates              23200.0\n",
      "213        United Kingdom              27700.0\n",
      "214         United States              37800.0\n",
      "215               Uruguay              12800.0\n",
      "220        Virgin Islands              17200.0\n",
      "\n",
      "[76 rows x 2 columns]\n",
      "\n",
      "\n"
     ]
    }
   ],
   "source": [
    "# ## 5. Görev:  Kişi Başı GSYİH 10.000'in Üzerinde Olan Ülkeleri Filtreleme: GDP ( per capita) sütunu 10.000'in üzerinde olan ülkeleri seçmek.\n",
    "\n",
    "# In[8]:\n",
    "\n",
    "\n",
    "# Kodunu buraya yazınız.\n",
    "gdp_10000_ustu = data[data['GDP ($ per capita)'] > 10000]\n",
    "print(\"GDP per capita'sı 10.000'in Üzerinde Olan Ülkeler:\")\n",
    "print(gdp_10000_ustu[['Country', 'GDP ($ per capita)']])\n",
    "print(\"\\n\")"
   ]
  },
  {
   "cell_type": "markdown",
   "id": "dad1807b",
   "metadata": {},
   "source": [
    "GDP per capita'sı 10.000'in üzerinde olan ülkeler:\n",
    "\n",
    "Liste, kişi başına düşen geliri yüksek olan ülkelerin dünya geneline dağıldığını göstermektedir. Kuzey Amerika, Avrupa, Orta Doğu, Okyanusya ve bazı Güney Amerika ülkeleri bu grupta yer almaktadır."
   ]
  },
  {
   "cell_type": "code",
   "execution_count": 6,
   "id": "ff5f38a0",
   "metadata": {},
   "outputs": [
    {
     "name": "stdout",
     "output_type": "stream",
     "text": [
      "En Yüksek Nüfus Yoğunluğuna Sahip İlk 10 Ülke:\n",
      "         Country Pop. Density (per sq. mi.)\n",
      "9       Armenia                        99,9\n",
      "186    Slovenia                        99,2\n",
      "202        Togo                        97,7\n",
      "12      Austria                        97,7\n",
      "168     Romania                        93,9\n",
      "77        Ghana                        93,6\n",
      "140  Montserrat                        92,5\n",
      "13   Azerbaijan                        91,9\n",
      "56     Dominica                        91,4\n",
      "206      Turkey                        90,2\n"
     ]
    }
   ],
   "source": [
    "# ## Görev 6 : En Yüksek Nüfus Yoğunluğuna Sahip İlk 10 Ülkeyi Seçme:\n",
    "# Pop. Density (per sq. mi.) sütununa göre ülkeleri sıralayıp, en yüksek nüfus yoğunluğuna sahip ilk 10 ülkeyi seçmek.\n",
    "\n",
    "# In[9]:\n",
    "\n",
    "\n",
    "# Kodunu buraya yazınız.\n",
    "nufus_yogunlugu_siralama = data.sort_values('Pop. Density (per sq. mi.)', ascending=False)\n",
    "en_yuksek_nufus_yogunlugu = nufus_yogunlugu_siralama.head(10)\n",
    "print(\"En Yüksek Nüfus Yoğunluğuna Sahip İlk 10 Ülke:\")\n",
    "print(en_yuksek_nufus_yogunlugu[['Country', 'Pop. Density (per sq. mi.)']])"
   ]
  },
  {
   "cell_type": "markdown",
   "id": "43c9e483",
   "metadata": {},
   "source": [
    "En yüksek nüfus yoğunluğuna sahip ilk 10 ülke:\n",
    "\n",
    "Liste, yüksek nüfus yoğunluğunun Avrupa, Afrika ve Asya gibi farklı kıtalardan ülkelerde görülebildiğini göstermektedir."
   ]
  }
 ],
 "metadata": {
  "kernelspec": {
   "display_name": "Python 3",
   "language": "python",
   "name": "python3"
  },
  "language_info": {
   "codemirror_mode": {
    "name": "ipython",
    "version": 3
   },
   "file_extension": ".py",
   "mimetype": "text/x-python",
   "name": "python",
   "nbconvert_exporter": "python",
   "pygments_lexer": "ipython3",
   "version": "3.12.8"
  }
 },
 "nbformat": 4,
 "nbformat_minor": 5
}
